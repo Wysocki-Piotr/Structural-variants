{
  "nbformat": 4,
  "nbformat_minor": 0,
  "metadata": {
    "colab": {
      "provenance": []
    },
    "kernelspec": {
      "name": "python3",
      "display_name": "Python 3"
    },
    "language_info": {
      "name": "python"
    }
  },
  "cells": [
    {
      "cell_type": "markdown",
      "source": [
        "### Indexing bam file"
      ],
      "metadata": {
        "id": "aHWKYMKfDfea"
      }
    },
    {
      "cell_type": "code",
      "execution_count": 1,
      "metadata": {
        "colab": {
          "base_uri": "https://localhost:8080/"
        },
        "id": "590U9b3ICIuz",
        "outputId": "516d5388-f34d-42e8-e052-34e685d8e62a"
      },
      "outputs": [
        {
          "output_type": "stream",
          "name": "stdout",
          "text": [
            "Reading package lists... Done\n",
            "Building dependency tree... Done\n",
            "Reading state information... Done\n",
            "The following additional packages will be installed:\n",
            "  libhts3 libhtscodecs2\n",
            "Suggested packages:\n",
            "  cwltool\n",
            "The following NEW packages will be installed:\n",
            "  libhts3 libhtscodecs2 samtools\n",
            "0 upgraded, 3 newly installed, 0 to remove and 34 not upgraded.\n",
            "Need to get 963 kB of archives.\n",
            "After this operation, 2,270 kB of additional disk space will be used.\n",
            "Get:1 http://archive.ubuntu.com/ubuntu jammy/universe amd64 libhtscodecs2 amd64 1.1.1-3 [53.2 kB]\n",
            "Get:2 http://archive.ubuntu.com/ubuntu jammy/universe amd64 libhts3 amd64 1.13+ds-2build1 [390 kB]\n",
            "Get:3 http://archive.ubuntu.com/ubuntu jammy/universe amd64 samtools amd64 1.13-4 [520 kB]\n",
            "Fetched 963 kB in 1s (660 kB/s)\n",
            "Selecting previously unselected package libhtscodecs2:amd64.\n",
            "(Reading database ... 126102 files and directories currently installed.)\n",
            "Preparing to unpack .../libhtscodecs2_1.1.1-3_amd64.deb ...\n",
            "Unpacking libhtscodecs2:amd64 (1.1.1-3) ...\n",
            "Selecting previously unselected package libhts3:amd64.\n",
            "Preparing to unpack .../libhts3_1.13+ds-2build1_amd64.deb ...\n",
            "Unpacking libhts3:amd64 (1.13+ds-2build1) ...\n",
            "Selecting previously unselected package samtools.\n",
            "Preparing to unpack .../samtools_1.13-4_amd64.deb ...\n",
            "Unpacking samtools (1.13-4) ...\n",
            "Setting up libhtscodecs2:amd64 (1.1.1-3) ...\n",
            "Setting up libhts3:amd64 (1.13+ds-2build1) ...\n",
            "Setting up samtools (1.13-4) ...\n",
            "Processing triggers for man-db (2.10.2-1) ...\n",
            "Processing triggers for libc-bin (2.35-0ubuntu3.8) ...\n",
            "/sbin/ldconfig.real: /usr/local/lib/libtbbbind_2_0.so.3 is not a symbolic link\n",
            "\n",
            "/sbin/ldconfig.real: /usr/local/lib/libumf.so.0 is not a symbolic link\n",
            "\n",
            "/sbin/ldconfig.real: /usr/local/lib/libtbbbind.so.3 is not a symbolic link\n",
            "\n",
            "/sbin/ldconfig.real: /usr/local/lib/libur_adapter_opencl.so.0 is not a symbolic link\n",
            "\n",
            "/sbin/ldconfig.real: /usr/local/lib/libhwloc.so.15 is not a symbolic link\n",
            "\n",
            "/sbin/ldconfig.real: /usr/local/lib/libur_adapter_level_zero.so.0 is not a symbolic link\n",
            "\n",
            "/sbin/ldconfig.real: /usr/local/lib/libtbbmalloc.so.2 is not a symbolic link\n",
            "\n",
            "/sbin/ldconfig.real: /usr/local/lib/libtcm_debug.so.1 is not a symbolic link\n",
            "\n",
            "/sbin/ldconfig.real: /usr/local/lib/libtcm.so.1 is not a symbolic link\n",
            "\n",
            "/sbin/ldconfig.real: /usr/local/lib/libur_loader.so.0 is not a symbolic link\n",
            "\n",
            "/sbin/ldconfig.real: /usr/local/lib/libtbbbind_2_5.so.3 is not a symbolic link\n",
            "\n",
            "/sbin/ldconfig.real: /usr/local/lib/libtbbmalloc_proxy.so.2 is not a symbolic link\n",
            "\n",
            "/sbin/ldconfig.real: /usr/local/lib/libtbb.so.12 is not a symbolic link\n",
            "\n",
            "Usage: samtools sort [options...] [in.bam]\n",
            "Options:\n",
            "  -l INT     Set compression level, from 0 (uncompressed) to 9 (best)\n",
            "  -u         Output uncompressed data (equivalent to -l 0)\n",
            "  -m INT     Set maximum memory per thread; suffix K/M/G recognized [768M]\n",
            "  -M         Use minimiser for clustering unaligned/unplaced reads\n",
            "  -K INT     Kmer size to use for minimiser [20]\n",
            "  -n         Sort by read name (not compatible with samtools index command)\n",
            "  -t TAG     Sort by value of TAG. Uses position as secondary index (or read name if -n is set)\n",
            "  -o FILE    Write final output to FILE rather than standard output\n",
            "  -T PREFIX  Write temporary files to PREFIX.nnnn.bam\n",
            "  --no-PG    do not add a PG line\n",
            "      --input-fmt-option OPT[=VAL]\n",
            "               Specify a single input file format option in the form\n",
            "               of OPTION or OPTION=VALUE\n",
            "  -O, --output-fmt FORMAT[,OPT[=VAL]]...\n",
            "               Specify output format (SAM, BAM, CRAM)\n",
            "      --output-fmt-option OPT[=VAL]\n",
            "               Specify a single output file format option in the form\n",
            "               of OPTION or OPTION=VALUE\n",
            "      --reference FILE\n",
            "               Reference sequence FASTA FILE [null]\n",
            "  -@, --threads INT\n",
            "               Number of additional threads to use [0]\n",
            "      --write-index\n",
            "               Automatically index the output files [off]\n",
            "      --verbosity INT\n",
            "               Set level of verbosity\n"
          ]
        }
      ],
      "source": [
        "!apt-get install -y samtools\n",
        "!samtools sort -o /content/drive/MyDrive/Task2/HG002_10X_R9_CHR21.bam"
      ]
    },
    {
      "cell_type": "code",
      "source": [
        "!samtools index /content/drive/MyDrive/Task2/HG002_10X_R9_CHR21.bam"
      ],
      "metadata": {
        "id": "pQTC_74ADktN"
      },
      "execution_count": 2,
      "outputs": []
    },
    {
      "cell_type": "markdown",
      "source": [
        "### Generating vcf file using dysgu"
      ],
      "metadata": {
        "id": "9H4p_XzKEC82"
      }
    },
    {
      "cell_type": "code",
      "source": [
        "%pip install dysgu"
      ],
      "metadata": {
        "colab": {
          "base_uri": "https://localhost:8080/"
        },
        "id": "VfSneX1kD6eR",
        "outputId": "2dd90a26-941b-4928-87e3-a6957ef2c142"
      },
      "execution_count": 3,
      "outputs": [
        {
          "output_type": "stream",
          "name": "stdout",
          "text": [
            "Collecting dysgu\n",
            "  Downloading dysgu-1.8.3-cp311-cp311-manylinux_2_28_x86_64.whl.metadata (609 bytes)\n",
            "Requirement already satisfied: setuptools>=61.0 in /usr/local/lib/python3.11/dist-packages (from dysgu) (75.2.0)\n",
            "Requirement already satisfied: cython in /usr/local/lib/python3.11/dist-packages (from dysgu) (3.0.12)\n",
            "Requirement already satisfied: click>=8.0 in /usr/local/lib/python3.11/dist-packages (from dysgu) (8.1.8)\n",
            "Requirement already satisfied: numpy in /usr/local/lib/python3.11/dist-packages (from dysgu) (2.0.2)\n",
            "Requirement already satisfied: scipy in /usr/local/lib/python3.11/dist-packages (from dysgu) (1.15.2)\n",
            "Requirement already satisfied: pandas in /usr/local/lib/python3.11/dist-packages (from dysgu) (2.2.2)\n",
            "Collecting pysam>=0.23 (from dysgu)\n",
            "  Downloading pysam-0.23.0-cp311-cp311-manylinux_2_28_x86_64.whl.metadata (1.6 kB)\n",
            "Requirement already satisfied: networkx>=2.4 in /usr/local/lib/python3.11/dist-packages (from dysgu) (3.4.2)\n",
            "Requirement already satisfied: scikit-learn>=0.22 in /usr/local/lib/python3.11/dist-packages (from dysgu) (1.6.1)\n",
            "Requirement already satisfied: sortedcontainers in /usr/local/lib/python3.11/dist-packages (from dysgu) (2.4.0)\n",
            "Collecting superintervals>=0.2.10 (from dysgu)\n",
            "  Downloading superintervals-0.2.10.tar.gz (58 kB)\n",
            "\u001b[2K     \u001b[90m━━━━━━━━━━━━━━━━━━━━━━━━━━━━━━━━━━━━━━━━\u001b[0m \u001b[32m58.9/58.9 kB\u001b[0m \u001b[31m3.7 MB/s\u001b[0m eta \u001b[36m0:00:00\u001b[0m\n",
            "\u001b[?25h  Installing build dependencies ... \u001b[?25l\u001b[?25hdone\n",
            "  Getting requirements to build wheel ... \u001b[?25l\u001b[?25hdone\n",
            "  Preparing metadata (pyproject.toml) ... \u001b[?25l\u001b[?25hdone\n",
            "Requirement already satisfied: lightgbm in /usr/local/lib/python3.11/dist-packages (from dysgu) (4.5.0)\n",
            "Requirement already satisfied: joblib>=1.2.0 in /usr/local/lib/python3.11/dist-packages (from scikit-learn>=0.22->dysgu) (1.4.2)\n",
            "Requirement already satisfied: threadpoolctl>=3.1.0 in /usr/local/lib/python3.11/dist-packages (from scikit-learn>=0.22->dysgu) (3.6.0)\n",
            "Requirement already satisfied: python-dateutil>=2.8.2 in /usr/local/lib/python3.11/dist-packages (from pandas->dysgu) (2.9.0.post0)\n",
            "Requirement already satisfied: pytz>=2020.1 in /usr/local/lib/python3.11/dist-packages (from pandas->dysgu) (2025.2)\n",
            "Requirement already satisfied: tzdata>=2022.7 in /usr/local/lib/python3.11/dist-packages (from pandas->dysgu) (2025.2)\n",
            "Requirement already satisfied: six>=1.5 in /usr/local/lib/python3.11/dist-packages (from python-dateutil>=2.8.2->pandas->dysgu) (1.17.0)\n",
            "Downloading dysgu-1.8.3-cp311-cp311-manylinux_2_28_x86_64.whl (29.3 MB)\n",
            "\u001b[2K   \u001b[90m━━━━━━━━━━━━━━━━━━━━━━━━━━━━━━━━━━━━━━━━\u001b[0m \u001b[32m29.3/29.3 MB\u001b[0m \u001b[31m56.8 MB/s\u001b[0m eta \u001b[36m0:00:00\u001b[0m\n",
            "\u001b[?25hDownloading pysam-0.23.0-cp311-cp311-manylinux_2_28_x86_64.whl (26.0 MB)\n",
            "\u001b[2K   \u001b[90m━━━━━━━━━━━━━━━━━━━━━━━━━━━━━━━━━━━━━━━━\u001b[0m \u001b[32m26.0/26.0 MB\u001b[0m \u001b[31m20.2 MB/s\u001b[0m eta \u001b[36m0:00:00\u001b[0m\n",
            "\u001b[?25hBuilding wheels for collected packages: superintervals\n",
            "  Building wheel for superintervals (pyproject.toml) ... \u001b[?25l\u001b[?25hdone\n",
            "  Created wheel for superintervals: filename=superintervals-0.2.10-cp311-cp311-linux_x86_64.whl size=397804 sha256=7d8293279eb02125d9e635adcb8d6165b68339186d7c0c5000d872186c38d1e3\n",
            "  Stored in directory: /root/.cache/pip/wheels/ea/f7/5b/0d152920a35493ece95b59de949e57bf96421f9e65e92ba2af\n",
            "Successfully built superintervals\n",
            "Installing collected packages: superintervals, pysam, dysgu\n",
            "Successfully installed dysgu-1.8.3 pysam-0.23.0 superintervals-0.2.10\n"
          ]
        }
      ]
    },
    {
      "cell_type": "code",
      "source": [
        "!dysgu run -x /content/drive/MyDrive/Task2/chr21.fa /content/drive/MyDrive/Task2/dysgu_results /content/drive/MyDrive/Task2/HG002_10X_R9_CHR21.bam > /content/drive/MyDrive/Task2/result.vcf"
      ],
      "metadata": {
        "colab": {
          "base_uri": "https://localhost:8080/"
        },
        "id": "sHm32psJEAsz",
        "outputId": "a24b5182-d22d-4d34-a17c-6c0369662d2b"
      },
      "execution_count": 4,
      "outputs": [
        {
          "output_type": "stream",
          "name": "stdout",
          "text": [
            "2025-05-10 16:44:02,309 [INFO   ]  [dysgu-run] Version: 1.8.3\n",
            "2025-05-10 16:44:02,310 [INFO   ]  run -x /content/drive/MyDrive/Task2/chr21.fa /content/drive/MyDrive/Task2/dysgu_results /content/drive/MyDrive/Task2/HG002_10X_R9_CHR21.bam\n",
            "2025-05-10 16:44:02,310 [INFO   ]  Destination: /content/drive/MyDrive/Task2/dysgu_results\n",
            "2025-05-10 16:44:24,298 [INFO   ]  dysgu fetch /content/drive/MyDrive/Task2/HG002_10X_R9_CHR21.bam written to /content/drive/MyDrive/Task2/dysgu_results/HG002_10X_R9_CHR21.dysgu_reads.bam, n=22980, time=0:00:21 h:m:s\n",
            "2025-05-10 16:44:24,298 [INFO   ]  Input file is: /content/drive/MyDrive/Task2/dysgu_results/HG002_10X_R9_CHR21.dysgu_reads.bam\n",
            "2025-05-10 16:44:25,588 [WARNING]  Warning: no @RG, using input file name as sample name for output: HG002_10X_R9_CHR21.dysgu_reads\n",
            "2025-05-10 16:44:25,588 [INFO   ]  Sample name: HG002_10X_R9_CHR21.dysgu_reads\n",
            "2025-05-10 16:44:25,588 [INFO   ]  Writing vcf to stdout\n",
            "2025-05-10 16:44:25,588 [INFO   ]  Running pipeline\n",
            "2025-05-10 16:44:37,774 [INFO   ]  Inferred read length: 20323.0\n",
            "2025-05-10 16:44:37,774 [INFO   ]  Max clustering dist: 1050\n",
            "2025-05-10 16:44:37,775 [INFO   ]  Building cluster graph\n",
            "2025-05-10 16:44:44,575 [INFO   ]  Total input reads: 22980\n",
            "2025-05-10 16:44:44,591 [INFO   ]  Graph constructed\n",
            "2025-05-10 16:44:44,592 [INFO   ]  Minimum support: 3\n",
            "2025-05-10 16:44:53,529 [INFO   ]  Number of components: 23695. N candidates: 2159\n",
            "2025-05-10 16:44:54,283 [INFO   ]  Re-alignment of soft-clips done. N candidates: 2155\n",
            "2025-05-10 16:45:01,681 [INFO   ]  Number of candidate SVs merged: 336\n",
            "2025-05-10 16:45:01,681 [INFO   ]  Number of candidate SVs after merge: 1819\n",
            "2025-05-10 16:45:01,703 [INFO   ]  Loaded n=1 chromosome coverage arrays from /content/drive/MyDrive/Task2/dysgu_results\n",
            "2025-05-10 16:45:05,094 [INFO   ]  Loading Model: /usr/local/lib/python3.11/dist-packages/dysgu/dysgu_model.1.pkl.gz\n",
            "2025-05-10 16:45:10,269 [INFO   ]  Model config: pe, diploid: True, contig features: True. N features: 43\n",
            "2025-05-10 16:45:11,217 [INFO   ]  dysgu call /content/drive/MyDrive/Task2/dysgu_results/HG002_10X_R9_CHR21.dysgu_reads.bam complete, n=1780, time=0:00:46 h:m:s\n",
            "2025-05-10 16:45:11,224 [INFO   ]  dysgu run /content/drive/MyDrive/Task2/HG002_10X_R9_CHR21.bam complete, time=0:01:08 h:m:s\n"
          ]
        }
      ]
    },
    {
      "cell_type": "code",
      "source": [
        "!head /content/drive/MyDrive/Task2/result.vcf"
      ],
      "metadata": {
        "colab": {
          "base_uri": "https://localhost:8080/"
        },
        "id": "TtiOJ6f0EfVv",
        "outputId": "cb5e380f-b5a5-4f62-83d4-a2093cd17f3e"
      },
      "execution_count": 5,
      "outputs": [
        {
          "output_type": "stream",
          "name": "stdout",
          "text": [
            "##fileformat=VCFv4.2\n",
            "##source=DYSGU\n",
            "##FILTER=<ID=PASS,Description=\"All filters passed\">\n",
            "##FILTER=<ID=lowProb,Description=\"Probability below threshold set with --thresholds\">\n",
            "##INFO=<ID=SVTYPE,Number=1,Type=String,Description=\"Type of structural variant\">\n",
            "##INFO=<ID=SVLEN,Number=1,Type=Integer,Description=\"Difference in length between REF and ALT alleles\">\n",
            "##INFO=<ID=END,Number=1,Type=Integer,Description=\"End position of the variant described in this record\">\n",
            "##INFO=<ID=CHR2,Number=1,Type=String,Description=\"Chromosome for END coordinate in case of a translocation\">\n",
            "##INFO=<ID=CHR2_POS,Number=1,Type=Integer,Description=\"Chromosome position for END coordinate in case of a translocation\">\n",
            "##INFO=<ID=GRP,Number=1,Type=Integer,Description=\"Group id for complex SVs\">\n"
          ]
        }
      ]
    }
  ]
}